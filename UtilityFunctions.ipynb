{
  "nbformat": 4,
  "nbformat_minor": 0,
  "metadata": {
    "colab": {
      "provenance": [],
      "mount_file_id": "1vCrynDX_6aJpBV-r0z--08RlBVFoqi8H",
      "authorship_tag": "ABX9TyMy6Rl/ZzaXUaKYxhMlAS7+",
      "include_colab_link": true
    },
    "kernelspec": {
      "name": "python3",
      "display_name": "Python 3"
    },
    "language_info": {
      "name": "python"
    }
  },
  "cells": [
    {
      "cell_type": "markdown",
      "metadata": {
        "id": "view-in-github",
        "colab_type": "text"
      },
      "source": [
        "<a href=\"https://colab.research.google.com/github/FaisalWant/colab-Python-snippets/blob/main/UtilityFunctions.ipynb\" target=\"_parent\"><img src=\"https://colab.research.google.com/assets/colab-badge.svg\" alt=\"Open In Colab\"/></a>"
      ]
    },
    {
      "cell_type": "markdown",
      "source": [
        "1. Converting CSV to XML\n"
      ],
      "metadata": {
        "id": "WDwwENHZveUL"
      }
    },
    {
      "cell_type": "code",
      "source": [
        "import pandas as pd\n",
        "df3= pd.read_csv(\"/Red.csv\",index_col=False)\n",
        "\n"
      ],
      "metadata": {
        "id": "cPRD5oRLvm81"
      },
      "execution_count": null,
      "outputs": []
    },
    {
      "cell_type": "code",
      "source": [
        "df2=df3.head()"
      ],
      "metadata": {
        "id": "xyyb791G7876"
      },
      "execution_count": null,
      "outputs": []
    },
    {
      "cell_type": "code",
      "source": [
        "#data2.to_xml(\"default.xml\",index=False)    ---Function directly converting df to xml"
      ],
      "metadata": {
        "id": "hqvus5pz_Sat"
      },
      "execution_count": null,
      "outputs": []
    },
    {
      "cell_type": "code",
      "source": [
        "#df2=df3.drop('Unnamed: 0', axis=1) # removing duplicate column"
      ],
      "metadata": {
        "id": "wmg3gwZo5-1j"
      },
      "execution_count": null,
      "outputs": []
    },
    {
      "cell_type": "code",
      "source": [
        "#df2.reset_index(drop=True, inplace=True)\n",
        "\n"
      ],
      "metadata": {
        "id": "rXcvqJln6pQn"
      },
      "execution_count": null,
      "outputs": []
    },
    {
      "cell_type": "code",
      "source": [
        "#df4 = df2.iloc[: , 1:]      droping first column\n"
      ],
      "metadata": {
        "id": "DfYCseJw6vPU"
      },
      "execution_count": null,
      "outputs": []
    },
    {
      "cell_type": "code",
      "source": [
        "#df4"
      ],
      "metadata": {
        "id": "zk3OOnCu80W7"
      },
      "execution_count": null,
      "outputs": []
    },
    {
      "cell_type": "code",
      "execution_count": null,
      "metadata": {
        "id": "MsIMDWLCv9L6"
      },
      "outputs": [],
      "source": [
        "from contextlib import redirect_stdout\n",
        "\n",
        "\n",
        "def convert_row(row):\n",
        "    return \"\"\"<Company=\"%s\">\n",
        "    <CompanyDescription>%s</CompanyDescription>\n",
        "    <JobCode>%s</JobCode>\n",
        "    <JobTitle>%s</JobTitle>\n",
        "    <Department>%s</Department>\n",
        "    <DepartmentDescription>%s</DepartmentDescription>\n",
        "    <JobFamily>%s</JobFamily>\n",
        "    <PayStatus>%s</PayStatus>\n",
        "</Company>\"\"\" % (\n",
        "    row.Company, row.CompanyDescription, row.JobCode, row.JobTitle, row.Department, row.DepartmentDescription\t, row.JobFamily, row.PayStatus\n",
        "    )\n",
        "\n",
        "with open('out.xml', 'w') as f:\n",
        "    with redirect_stdout(f):\n",
        "        print('\\n'.join(df2.apply(convert_row, axis=1)))\n",
        "   "
      ]
    },
    {
      "cell_type": "code",
      "source": [
        "from google.colab import files\n",
        "files.download('out.xml') "
      ],
      "metadata": {
        "colab": {
          "base_uri": "https://localhost:8080/",
          "height": 17
        },
        "id": "BXPOEU0CzxqV",
        "outputId": "79c4c6d4-4ce0-42ef-9b0e-42314592391d"
      },
      "execution_count": null,
      "outputs": [
        {
          "output_type": "display_data",
          "data": {
            "application/javascript": [
              "\n",
              "    async function download(id, filename, size) {\n",
              "      if (!google.colab.kernel.accessAllowed) {\n",
              "        return;\n",
              "      }\n",
              "      const div = document.createElement('div');\n",
              "      const label = document.createElement('label');\n",
              "      label.textContent = `Downloading \"${filename}\": `;\n",
              "      div.appendChild(label);\n",
              "      const progress = document.createElement('progress');\n",
              "      progress.max = size;\n",
              "      div.appendChild(progress);\n",
              "      document.body.appendChild(div);\n",
              "\n",
              "      const buffers = [];\n",
              "      let downloaded = 0;\n",
              "\n",
              "      const channel = await google.colab.kernel.comms.open(id);\n",
              "      // Send a message to notify the kernel that we're ready.\n",
              "      channel.send({})\n",
              "\n",
              "      for await (const message of channel.messages) {\n",
              "        // Send a message to notify the kernel that we're ready.\n",
              "        channel.send({})\n",
              "        if (message.buffers) {\n",
              "          for (const buffer of message.buffers) {\n",
              "            buffers.push(buffer);\n",
              "            downloaded += buffer.byteLength;\n",
              "            progress.value = downloaded;\n",
              "          }\n",
              "        }\n",
              "      }\n",
              "      const blob = new Blob(buffers, {type: 'application/binary'});\n",
              "      const a = document.createElement('a');\n",
              "      a.href = window.URL.createObjectURL(blob);\n",
              "      a.download = filename;\n",
              "      div.appendChild(a);\n",
              "      a.click();\n",
              "      div.remove();\n",
              "    }\n",
              "  "
            ],
            "text/plain": [
              "<IPython.core.display.Javascript object>"
            ]
          },
          "metadata": {}
        },
        {
          "output_type": "display_data",
          "data": {
            "application/javascript": [
              "download(\"download_5f8c5eb7-b1f3-41fd-bcd6-b438a7374cd8\", \"out.xml\", 1681)"
            ],
            "text/plain": [
              "<IPython.core.display.Javascript object>"
            ]
          },
          "metadata": {}
        }
      ]
    },
    {
      "cell_type": "markdown",
      "source": [
        "END-------------------\n"
      ],
      "metadata": {
        "id": "N219K2zRK1Nh"
      }
    },
    {
      "cell_type": "markdown",
      "source": [
        "2. Removing Spaces from the Sheet Headers\n"
      ],
      "metadata": {
        "id": "C6-HRbR2MEoO"
      }
    },
    {
      "cell_type": "code",
      "source": [
        "import pandas as pd\n",
        "df3= pd.read_csv(\"/RemoveDuplicates.csv\",index_col=False)"
      ],
      "metadata": {
        "id": "LWmNM4HnK3r1"
      },
      "execution_count": null,
      "outputs": []
    },
    {
      "cell_type": "code",
      "source": [
        "df3"
      ],
      "metadata": {
        "id": "aZFVDbyeLa_r"
      },
      "execution_count": null,
      "outputs": []
    },
    {
      "cell_type": "code",
      "source": [
        "df2=df3.drop('Unnamed: 0',axis=1)"
      ],
      "metadata": {
        "id": "x_ik4b5KLb6B"
      },
      "execution_count": null,
      "outputs": []
    },
    {
      "cell_type": "code",
      "source": [
        "df2"
      ],
      "metadata": {
        "id": "TET54wEOLpbD"
      },
      "execution_count": null,
      "outputs": []
    },
    {
      "cell_type": "code",
      "source": [
        "df2.columns  #Getting Columns of a sheet"
      ],
      "metadata": {
        "colab": {
          "base_uri": "https://localhost:8080/"
        },
        "id": "O--jKZRsLrAE",
        "outputId": "820f7767-85c9-49b0-b3b2-f69975a6422d"
      },
      "execution_count": null,
      "outputs": [
        {
          "output_type": "execute_result",
          "data": {
            "text/plain": [
              "Index(['Company', 'Company Description', 'Job Code', 'Job Title', 'Department',\n",
              "       'Department Description', 'Job Family', 'Pay Status'],\n",
              "      dtype='object')"
            ]
          },
          "metadata": {},
          "execution_count": 98
        }
      ]
    },
    {
      "cell_type": "code",
      "source": [
        "df2.columns.str.replace(\" \",'-')    #Replacing Space in columns with character"
      ],
      "metadata": {
        "colab": {
          "base_uri": "https://localhost:8080/"
        },
        "id": "uOcSf0M9Lt72",
        "outputId": "d131508e-0def-4378-c3a7-dfa513402b8e"
      },
      "execution_count": null,
      "outputs": [
        {
          "output_type": "execute_result",
          "data": {
            "text/plain": [
              "Index(['Company', 'Company-Description', 'Job-Code', 'Job-Title', 'Department',\n",
              "       'Department-Description', 'Job-Family', 'Pay-Status'],\n",
              "      dtype='object')"
            ]
          },
          "metadata": {},
          "execution_count": 99
        }
      ]
    },
    {
      "cell_type": "code",
      "source": [
        "for x in reversed(range(10)): \n",
        "  print(x)"
      ],
      "metadata": {
        "id": "Z3xiHYDrL6D8"
      },
      "execution_count": null,
      "outputs": []
    },
    {
      "cell_type": "markdown",
      "source": [
        "removing tail from a string "
      ],
      "metadata": {
        "id": "IsP6qHnRg1Py"
      }
    },
    {
      "cell_type": "code",
      "source": [
        "org_string = \"faisal Jrfzal\"\n",
        "\n",
        "endString= org_string.split(\" \")[-1]\n",
        "endBefore= org_string.split(\" \")[:-1]\n",
        "\n",
        "if endString == \"Jr\" or endString == \"Jr.\":\n",
        "   org_string= org_string.split(\" \")[:-1]\n",
        "   org_string= \" \".join(org_string)\n",
        "\n",
        "\n",
        "print(org_string) "
      ],
      "metadata": {
        "id": "R6SanvIFY9Za",
        "colab": {
          "base_uri": "https://localhost:8080/"
        },
        "outputId": "9f054ac8-ac03-4335-b6b2-3b46a9431fc3"
      },
      "execution_count": null,
      "outputs": [
        {
          "output_type": "stream",
          "name": "stdout",
          "text": [
            "faisal Jrfzal\n"
          ]
        }
      ]
    },
    {
      "cell_type": "markdown",
      "source": [
        "Read XML file\n"
      ],
      "metadata": {
        "id": "U_mJzm6U2Itp"
      }
    },
    {
      "cell_type": "code",
      "source": [
        "import pandas as pd\n",
        "from google.colab import files\n",
        "data= pd.read_xml(\"/content/drive/MyDrive/DataSets/mappingII.xml\")\n",
        "data\n",
        "\n",
        "data.to_csv('raw_data.csv', index=False)\n",
        "\n",
        "files.download('raw_data.csv') \n"
      ],
      "metadata": {
        "colab": {
          "base_uri": "https://localhost:8080/",
          "height": 17
        },
        "id": "80ef95Ol2H32",
        "outputId": "6f73ee72-df74-4435-dda3-84300e719c91"
      },
      "execution_count": null,
      "outputs": [
        {
          "output_type": "display_data",
          "data": {
            "text/plain": [
              "<IPython.core.display.Javascript object>"
            ],
            "application/javascript": [
              "\n",
              "    async function download(id, filename, size) {\n",
              "      if (!google.colab.kernel.accessAllowed) {\n",
              "        return;\n",
              "      }\n",
              "      const div = document.createElement('div');\n",
              "      const label = document.createElement('label');\n",
              "      label.textContent = `Downloading \"${filename}\": `;\n",
              "      div.appendChild(label);\n",
              "      const progress = document.createElement('progress');\n",
              "      progress.max = size;\n",
              "      div.appendChild(progress);\n",
              "      document.body.appendChild(div);\n",
              "\n",
              "      const buffers = [];\n",
              "      let downloaded = 0;\n",
              "\n",
              "      const channel = await google.colab.kernel.comms.open(id);\n",
              "      // Send a message to notify the kernel that we're ready.\n",
              "      channel.send({})\n",
              "\n",
              "      for await (const message of channel.messages) {\n",
              "        // Send a message to notify the kernel that we're ready.\n",
              "        channel.send({})\n",
              "        if (message.buffers) {\n",
              "          for (const buffer of message.buffers) {\n",
              "            buffers.push(buffer);\n",
              "            downloaded += buffer.byteLength;\n",
              "            progress.value = downloaded;\n",
              "          }\n",
              "        }\n",
              "      }\n",
              "      const blob = new Blob(buffers, {type: 'application/binary'});\n",
              "      const a = document.createElement('a');\n",
              "      a.href = window.URL.createObjectURL(blob);\n",
              "      a.download = filename;\n",
              "      div.appendChild(a);\n",
              "      a.click();\n",
              "      div.remove();\n",
              "    }\n",
              "  "
            ]
          },
          "metadata": {}
        },
        {
          "output_type": "display_data",
          "data": {
            "text/plain": [
              "<IPython.core.display.Javascript object>"
            ],
            "application/javascript": [
              "download(\"download_acc0f930-61c4-4830-9241-8827e2a010ec\", \"raw_data.csv\", 14410)"
            ]
          },
          "metadata": {}
        }
      ]
    },
    {
      "cell_type": "code",
      "source": [
        "import xml.etree.ElementTree as ET\n",
        "tree = ET.parse(\"/content/drive/MyDrive/DataSets/mappingII.xml\")"
      ],
      "metadata": {
        "id": "W7uxMcs3JXAC"
      },
      "execution_count": null,
      "outputs": []
    },
    {
      "cell_type": "code",
      "source": [
        "from google.colab import drive\n",
        "drive.mount('/content/drive')"
      ],
      "metadata": {
        "colab": {
          "base_uri": "https://localhost:8080/"
        },
        "id": "g6LgwFqAH8Kl",
        "outputId": "c93f7a7e-3459-4e83-b5f4-b740021b18d1"
      },
      "execution_count": null,
      "outputs": [
        {
          "output_type": "stream",
          "name": "stdout",
          "text": [
            "Drive already mounted at /content/drive; to attempt to forcibly remount, call drive.mount(\"/content/drive\", force_remount=True).\n"
          ]
        }
      ]
    },
    {
      "cell_type": "code",
      "source": [
        "# importing pandas\n",
        "import pandas as pd\n",
        "  \n",
        "record = {\n",
        "  'Name': ['Ankit', 'Amit', 'Aishwarya', 'Priyanka', 'Priya', 'Shaurya' ],\n",
        "  'Age': [21, 19, 20, 18, 17, 21],\n",
        "  'Stream': ['Math', 'Commerce', 'Science', 'Math', 'Math', 'Science'],\n",
        "  'Percentage': [88, 92, 95, 70, 65, 78]}\n",
        "  \n",
        "# create a dataframe\n",
        "dataframe = pd.DataFrame(record, columns = ['Name', 'Age', 'Stream', 'Percentage'])\n",
        "  \n",
        "print(\"Given Dataframe :\\n\", dataframe) \n",
        "  \n",
        "# selecting rows based on condition\n",
        "rslt_df = dataframe.loc[dataframe['Percentage'] != 95]\n",
        "rslt_df2= rslt_df.loc[rslt_df['Percentage'] != 60]\n",
        "  \n",
        "print('\\nResult dataframe :\\n', rslt_df)\n",
        "print('\\nResult dataframe :\\n', rslt_df2)"
      ],
      "metadata": {
        "id": "GaKYX4VK0kII"
      },
      "execution_count": null,
      "outputs": []
    },
    {
      "cell_type": "code",
      "source": [
        "import pandas as pd\n",
        "\n",
        "df=pd.read_csv('ppsftfilt.csv',encoding = 'ISO-8859-1')\n",
        "df.to_csv('ppsftfiltUpl.csv', sep='|', index=False)\n"
      ],
      "metadata": {
        "id": "hVen_XyoSo-z"
      },
      "execution_count": null,
      "outputs": []
    },
    {
      "cell_type": "code",
      "source": [
        "df.head()"
      ],
      "metadata": {
        "id": "LijxZlqvQu4_"
      },
      "execution_count": null,
      "outputs": []
    },
    {
      "cell_type": "code",
      "source": [
        "\n",
        "from google.colab import files\n",
        "files.download('ppsftfiltUpl.csv') "
      ],
      "metadata": {
        "colab": {
          "base_uri": "https://localhost:8080/",
          "height": 17
        },
        "id": "Bt6QkkLeTJQS",
        "outputId": "1454ca87-b964-40c5-c489-97d8cf7bb9c4"
      },
      "execution_count": null,
      "outputs": [
        {
          "output_type": "display_data",
          "data": {
            "text/plain": [
              "<IPython.core.display.Javascript object>"
            ],
            "application/javascript": [
              "\n",
              "    async function download(id, filename, size) {\n",
              "      if (!google.colab.kernel.accessAllowed) {\n",
              "        return;\n",
              "      }\n",
              "      const div = document.createElement('div');\n",
              "      const label = document.createElement('label');\n",
              "      label.textContent = `Downloading \"${filename}\": `;\n",
              "      div.appendChild(label);\n",
              "      const progress = document.createElement('progress');\n",
              "      progress.max = size;\n",
              "      div.appendChild(progress);\n",
              "      document.body.appendChild(div);\n",
              "\n",
              "      const buffers = [];\n",
              "      let downloaded = 0;\n",
              "\n",
              "      const channel = await google.colab.kernel.comms.open(id);\n",
              "      // Send a message to notify the kernel that we're ready.\n",
              "      channel.send({})\n",
              "\n",
              "      for await (const message of channel.messages) {\n",
              "        // Send a message to notify the kernel that we're ready.\n",
              "        channel.send({})\n",
              "        if (message.buffers) {\n",
              "          for (const buffer of message.buffers) {\n",
              "            buffers.push(buffer);\n",
              "            downloaded += buffer.byteLength;\n",
              "            progress.value = downloaded;\n",
              "          }\n",
              "        }\n",
              "      }\n",
              "      const blob = new Blob(buffers, {type: 'application/binary'});\n",
              "      const a = document.createElement('a');\n",
              "      a.href = window.URL.createObjectURL(blob);\n",
              "      a.download = filename;\n",
              "      div.appendChild(a);\n",
              "      a.click();\n",
              "      div.remove();\n",
              "    }\n",
              "  "
            ]
          },
          "metadata": {}
        },
        {
          "output_type": "display_data",
          "data": {
            "text/plain": [
              "<IPython.core.display.Javascript object>"
            ],
            "application/javascript": [
              "download(\"download_6fa3a789-0d19-43cb-9c7a-c99d77f67cfb\", \"ppsftfiltUpl.csv\", 11413401)"
            ]
          },
          "metadata": {}
        }
      ]
    },
    {
      "cell_type": "code",
      "source": [
        "import os \n",
        "import time \n",
        "from pathlib import Path \n",
        "\n",
        "import schedule \n",
        "\n",
        "old_files_folder_name =\"old_files\" \n",
        "\n",
        "\n",
        "def clean_up_download(): \n",
        "  print(\"Cleaning Up Downloads\") \n",
        "\n",
        "\n",
        "  # get all items from the downloads folder \n",
        "  download_folder_path= os.path.join(Path.home(), \"Downloads\", \"Downloads\") \n",
        "  download_items= os.listdir(download_folder_path) \n",
        "\n",
        "  moved_items=0 \n",
        "\n",
        "  # create the old files folder if not present \n",
        "\n",
        "  old_files_folder_path= os.path.join(download_folder_path, old_files_folder_name) \n",
        "\n",
        "  if old_files_folder_name not in donwload_items: \n",
        "    prnit(f\"No {old_files_folder_name} folder yet, creating folder\") \n",
        "    os.mkdir(old_files_folder_path) \n",
        "  \n",
        "  # create a new folder with todays timestamp \n",
        "  timestamp= time.strftime(\"%Y_%m_%d\") \n",
        "  datetime_folder_path= os.path.join(old_files_folder_path, timestamp) \n",
        "  if not os.path.exists(datetime_folder_path): \n",
        "    print(f\"No {datetime_folder_path} folder yet, createing folder\") \n",
        "    os.mkdir(datetime_folder_path) \n",
        "  \n",
        "  else: \n",
        "    print(f\"{timestamp} folder already exists in {old_files_folder_name}\")\n",
        "\n",
        "  #renmae all items to mvoe them into the current datetime folder\n",
        "  to_be_moved=[item for item in download_items if item != old_file_folder_name] \n",
        "\n",
        "\n",
        "  for item in to_be_moved: \n",
        "    print(f\"Moving {item} to {datetime_folder_path} folder\") \n",
        "    old_path= os.path.join(download_folder_path, item) \n",
        "    new_path= os.path.join(datetime_folder_path, item)\n",
        "    os.rename(old_path, new_path) \n",
        "    moved_items +=1 \n",
        "  \n",
        "\n",
        "  print(f\"Moved {moved_items} of {len(to_be_moved)} items\")\n",
        "\n"
      ],
      "metadata": {
        "id": "cnXlTPHGf82W"
      },
      "execution_count": null,
      "outputs": []
    }
  ]
}