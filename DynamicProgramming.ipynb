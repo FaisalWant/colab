{
  "nbformat": 4,
  "nbformat_minor": 0,
  "metadata": {
    "colab": {
      "name": "DynamicProgramming.ipynb",
      "provenance": [],
      "collapsed_sections": [],
      "include_colab_link": true
    },
    "kernelspec": {
      "name": "python3",
      "display_name": "Python 3"
    },
    "language_info": {
      "name": "python"
    }
  },
  "cells": [
    {
      "cell_type": "markdown",
      "metadata": {
        "id": "view-in-github",
        "colab_type": "text"
      },
      "source": [
        "<a href=\"https://colab.research.google.com/github/FaisalWant/colab-Python-snippets/blob/main/DynamicProgramming.ipynb\" target=\"_parent\"><img src=\"https://colab.research.google.com/assets/colab-badge.svg\" alt=\"Open In Colab\"/></a>"
      ]
    },
    {
      "cell_type": "code",
      "source": [
        "def fact(n):\n",
        "  if n==1:\n",
        "    return 1\n",
        "  else:\n",
        "    return n* fact(n-1)      ## fact(n-1)= T(n-1), *-->1, return --->1 , T(n)= T(n-1)+2 => T(n)= T(n-1)+1"
      ],
      "metadata": {
        "id": "ervHAfNx3UeT"
      },
      "execution_count": null,
      "outputs": []
    },
    {
      "cell_type": "code",
      "execution_count": null,
      "metadata": {
        "id": "-OrT1S7XdiGT"
      },
      "outputs": [],
      "source": [
        "def fibonacii(n): #O(2 Pow(n)) |O(n) space\n",
        "  if n==0:\n",
        "    return 0\n",
        "  if n==1:\n",
        "    return 1\n",
        "  \n",
        "  return fibonacii(n-1)+fibonacii(n-2)"
      ]
    },
    {
      "cell_type": "code",
      "source": [
        "#using memoization  O(n) time | O(n) space\n",
        "\n",
        "past_fib={}\n",
        "\n",
        "def fibonacii(n):\n",
        "  if n in past_fib:\n",
        "    return past_fib[n]\n",
        "  if n==0 or n==1:\n",
        "    past_fib[n]=1\n",
        "    return 1 \n",
        "  total = fibonacii(n-1) + fibonacii(n-2)\n",
        "  past_fib[n]=total\n",
        "  return total\n",
        "\n",
        "fibonacii(15)"
      ],
      "metadata": {
        "colab": {
          "base_uri": "https://localhost:8080/"
        },
        "id": "G3_DuRJktxv4",
        "outputId": "a0c14524-c907-4afd-bd39-5aafe010644f"
      },
      "execution_count": null,
      "outputs": [
        {
          "output_type": "execute_result",
          "data": {
            "text/plain": [
              "987"
            ]
          },
          "metadata": {},
          "execution_count": 2
        }
      ]
    },
    {
      "cell_type": "code",
      "source": [
        "def getNthFib(n, memoize={1:0, 2:1}):\n",
        "  if n in memoize:\n",
        "    return memoize[n]\n",
        "  \n",
        "  else:\n",
        "    memoize[n]=getNthFib(n-1, memoize)+ getNthFib(n-2, memoize) \n",
        "    return memoize[n]"
      ],
      "metadata": {
        "id": "qIq6lU4UcJnP"
      },
      "execution_count": null,
      "outputs": []
    },
    {
      "cell_type": "code",
      "source": [
        "def getNthFib(n):     #O(n) time | O(1) space \n",
        "  lastTwo=[0,1]\n",
        "  counter=3\n",
        "\n",
        "  while counter <=n:\n",
        "    nextFib= lastTwo[0]+ lastTwo[1]\n",
        "    lastTwo[0]=lastTwo[1]\n",
        "    lastTwo[1]=nextFib\n",
        "    counter+=1\n",
        "  return lastTwo[1] if n>1 else lastTwo[0]"
      ],
      "metadata": {
        "id": "83nTXpDWc7lX"
      },
      "execution_count": null,
      "outputs": []
    },
    {
      "cell_type": "code",
      "source": [
        "#Using DP  Throwing Error \n",
        "\n",
        "def fib(n):\n",
        "  dp=[0]*(n+1) \n",
        "  dp[0]=0\n",
        "  dp[1]=1\n",
        "  for i in range(2, len(dp)):\n",
        "    dp=dp[i-1]+dp[i-2]\n",
        "  return dp[n]"
      ],
      "metadata": {
        "id": "-rH6BfGV7CA9"
      },
      "execution_count": null,
      "outputs": []
    },
    {
      "cell_type": "code",
      "source": [
        "def fib(n):\n",
        "  dp=[0,1]\n",
        "\n",
        "  for i in range(2, n+1):\n",
        "    dp.append(dp[i-1]+ dp[i-2])\n",
        "  return dp[n]\n",
        "  "
      ],
      "metadata": {
        "id": "uyDVx9Fee8qM"
      },
      "execution_count": null,
      "outputs": []
    },
    {
      "cell_type": "markdown",
      "source": [
        "MergeSort\n"
      ],
      "metadata": {
        "id": "EkUXk-O_gHLd"
      }
    },
    {
      "cell_type": "code",
      "source": [
        "def joinSorted(arr1, arr2):\n",
        "  output=[]\n",
        "  i=j=k=0\n",
        "  while i<len(arr1) or j<len(arr2):\n",
        "    if i<len(arr1) and j<len(arr2):\n",
        "      if arr1[i]< arr2[j]:\n",
        "        output.append(arr1[i])\n",
        "        i+=1\n",
        "      else:\n",
        "        output.append(arr2[j])\n",
        "        j+=1\n",
        "        \n",
        "    elif i<len(arr1):\n",
        "      output.append(arr1[i])\n",
        "      i+=1\n",
        "    else:\n",
        "      output.append(arr2[j])\n",
        "      j+=1\n",
        "    k+=1\n",
        "  return output\n",
        "\n",
        "\n",
        "\n",
        "def mergeSort(arr):\n",
        "  if len(arr)<=1:\n",
        "    return arr           # --->1\n",
        "  \n",
        "  else:\n",
        "    mid=len(arr)//2      #    ---->1\n",
        "    left= arr[:mid]\n",
        "    right= arr[mid:]\n",
        "    left = mergeSort(left)   #--->n/2\n",
        "    right= mergeSort(right)  #--->n/2\n",
        "    return joinSorted(left, right)  # --->n\n",
        "\n",
        "                                   #2T(n/2)+2n+1\n",
        "                                   #2T(n/2)+n"
      ],
      "metadata": {
        "id": "0FAn0RmVeBDe"
      },
      "execution_count": null,
      "outputs": []
    },
    {
      "cell_type": "code",
      "source": [
        "arr= mergeSort([4,1,6,0,2,8,12,9])"
      ],
      "metadata": {
        "id": "vYDB98Uchtcd"
      },
      "execution_count": null,
      "outputs": []
    },
    {
      "cell_type": "code",
      "source": [
        "print(arr)"
      ],
      "metadata": {
        "colab": {
          "base_uri": "https://localhost:8080/"
        },
        "id": "YFQMoenlh3hF",
        "outputId": "78cda9f2-da38-4089-9231-f192aa45fb59"
      },
      "execution_count": null,
      "outputs": [
        {
          "output_type": "stream",
          "name": "stdout",
          "text": [
            "[0, 1, 2, 4, 6, 8, 9, 12]\n"
          ]
        }
      ]
    },
    {
      "cell_type": "markdown",
      "source": [
        "Tower of Hanoi"
      ],
      "metadata": {
        "id": "j6duEOA-ieRL"
      }
    },
    {
      "cell_type": "code",
      "source": [
        "def towerOfHanoi(n, source='A', auxiliary='B', destination='C'):\n",
        "  if n==1:\n",
        "    print(\"from\", source, \"to\", destination)       # T(1)\n",
        "  \n",
        "  else:\n",
        "    towerOfHanoi(n-1, source, destination, auxiliary)   # T(n-1)\n",
        "    print(\"from\", source, \"to\", destination)            # 1\n",
        "    towerOfHanoi(n-1,auxiliary, source, destination)     # T(n-1)\n",
        "                                                          # 2*T(n-1)+1"
      ],
      "metadata": {
        "id": "6s0YY1sQh5Bx"
      },
      "execution_count": null,
      "outputs": []
    },
    {
      "cell_type": "markdown",
      "source": [
        "BinarySearch\n"
      ],
      "metadata": {
        "id": "lLJb5r6ejZzT"
      }
    },
    {
      "cell_type": "code",
      "source": [
        "def rec(arr, num, left, right): # O(log N) | O(log N)\n",
        "\n",
        "  mid=(left+right)//2        # whole number, left, right is index\n",
        "  \n",
        "  if left>right:\n",
        "    return -1     # search ends    ,T(0)=1\n",
        "  elif arr[mid]==num:\n",
        "    return mid                      #, T(0)=1\n",
        "  elif arr[mid]<num:  \n",
        "    return rec(arr, num, mid+1, right)   # rec(...)--> T(n/2) , return -->1 ==> T(n/2)+1, as it is if else so No 2*T(n/2)\n",
        "  else:\n",
        "    return rec(arr, num, left, mid-1)\n",
        "  \n",
        "\n",
        "\n",
        "\n",
        "\n",
        "def binarySearch(arr,num):\n",
        "  left=0\n",
        "  right=len(arr)-1\n",
        "  return rec(arr,num,left, right)"
      ],
      "metadata": {
        "id": "j9SAjZKIjYr5"
      },
      "execution_count": null,
      "outputs": []
    },
    {
      "cell_type": "markdown",
      "source": [
        "Iterative BinarySearch\n"
      ],
      "metadata": {
        "id": "Eh0CqrIW-tr0"
      }
    },
    {
      "cell_type": "code",
      "source": [
        "def bs_contains(ordered, target): #O(logn) time | O(1)\n",
        "  \n",
        "  low=0\n",
        "  high=len(ordered)-1\n",
        "\n",
        "  while low<=high:\n",
        "    mid=(low+high)/2\n",
        "    if target==ordered[mid]:\n",
        "      return True \n",
        "    elif target <ordered[mid]:\n",
        "      high=mid-1\n",
        "    \n",
        "    else:\n",
        "      low=mid+1   # (low+1) wld be the postion were we can add if elm is not prsnt in collection\n",
        "\n",
        "  return False"
      ],
      "metadata": {
        "id": "ueK1pcDq-sig"
      },
      "execution_count": null,
      "outputs": []
    },
    {
      "cell_type": "markdown",
      "source": [
        "Shifted Binary Search : L 114"
      ],
      "metadata": {
        "id": "0qQAmJwY7Q4O"
      }
    },
    {
      "cell_type": "code",
      "source": [
        "\n",
        "# shift a BST--------------\n",
        "\n",
        "\n",
        "def shifterBinarySearch(array, target):\n",
        "  return shifterBinarySearchHelper(array, target, 0, len(array)-1)\n",
        "\n",
        "\n",
        "def shiftedBinarySearchHelper(array, target, left, right):  # O(log n) | O(log n) \n",
        "  if left> right: \n",
        "    return -1 \n",
        "\n",
        "  middle= (left+right)//2 \n",
        "  potentialMatch= array[middle] \n",
        "\n",
        "  leftNum= array[left] \n",
        "  rightNum= array[right] \n",
        "\n",
        "  if target== potentialMatch:\n",
        "    return middle \n",
        "  \n",
        "  elif leftNum<= potentialMatch:\n",
        "    if target < potentialMatch and target >= leftNum: \n",
        "      return shifterBinarySearchHelper(array, target, left, middle-1) \n",
        "    \n",
        "    else: \n",
        "      return shiftedBinarySearchHelper(array, target, middle+1, right) \n",
        "\n",
        "  else: \n",
        "    if target> potentialMatch and target<= rightNum:\n",
        "      return shiftedBinarySearchHelper(array, target, middle-1, right) \n",
        "    \n",
        "    else:\n",
        "      return shiftedBinarySearchHelper(array, target, left, middle-1) \n",
        "#----------------------------------------------------------------------\n",
        "\n",
        "\n",
        "\n",
        "\n",
        "def shifterBinarySearch(array, target):\n",
        "  return shifterBinarySearchHelper(array, target, 0, len(array)-1)\n",
        "\n",
        "\n",
        "def shiftedBinarySearchHelper(array, target, left, right):  # O(log n) | O(1) \n",
        "  \n",
        "  while left <= right\n",
        "\n",
        "    middle= (left+right)//2 \n",
        "    potentialMatch= array[middle] \n",
        "\n",
        "    leftNum= array[left] \n",
        "    rightNum= array[right] \n",
        "\n",
        "    if target== potentialMatch:\n",
        "      return middle \n",
        "    \n",
        "    elif leftNum<= potentialMatch:\n",
        "      if target < potentialMatch and target >= leftNum: \n",
        "        right= middle-1\n",
        "        \n",
        "      else: \n",
        "        left = middle+1\n",
        "\n",
        "    else: \n",
        "      if target> potentialMatch and target<= rightNum:\n",
        "        left= middle+1\n",
        "       \n",
        "      \n",
        "      else:\n",
        "        right= middle-1 \n",
        "   \n",
        "   return -1"
      ],
      "metadata": {
        "id": "EV0kfp6A7U4r"
      },
      "execution_count": null,
      "outputs": []
    },
    {
      "cell_type": "markdown",
      "source": [
        "Directory Sum"
      ],
      "metadata": {
        "id": "Y5X-rN19lD5k"
      }
    },
    {
      "cell_type": "code",
      "source": [
        "def getSize(dir):\n",
        "  size=0\n",
        "  for file in dir.files:   # adding all the file sizes, base case is included in for loop\n",
        "    size+= file.size \n",
        "\n",
        "  for subdir in dir.subdirectories:    # adding all the subdirectory sizes, base case is included in for loop\n",
        "    size+= getSize(subdir)\n",
        "  return size"
      ],
      "metadata": {
        "id": "F5xYYE4QlGCs"
      },
      "execution_count": null,
      "outputs": []
    },
    {
      "cell_type": "markdown",
      "source": [
        ""
      ],
      "metadata": {
        "id": "EUNN5WESQ7pK"
      }
    },
    {
      "cell_type": "markdown",
      "source": [
        "Ways to Climb\n"
      ],
      "metadata": {
        "id": "7PuE9lNqQ8D_"
      }
    },
    {
      "cell_type": "code",
      "source": [
        "def waysToClimb(n, possibleSteps):\n",
        "  if n==0:\n",
        "    return 1     #--1\n",
        "  else:\n",
        "    bways=0       #--->1\n",
        "    for steps in possibleSteps:   #----->m \n",
        "      if (n-steps)>=0:\n",
        "        bways+=waysToClimb(n-steps, possibleSteps) #T(n-1)\n",
        "    return bways #--->1\n",
        "                                    # mT(n-1)+m+2\n",
        "                                    # mT(n-1)+m"
      ],
      "metadata": {
        "id": "u6rWEstaRAaF"
      },
      "execution_count": null,
      "outputs": []
    },
    {
      "cell_type": "markdown",
      "source": [
        "Permutation"
      ],
      "metadata": {
        "id": "fp0DN5biM9xX"
      }
    },
    {
      "cell_type": "code",
      "source": [
        "def permute(soFar, rest):\n",
        "  if rest==\" \":\n",
        "    print(soFar)\n",
        "  \n",
        "  else:\n",
        "    for i in range(len(rest)):\n",
        "      next=soFar+rest[i]\n",
        "      remaining= rest[0:i+1]+ rest[i+1]\n",
        "      permute(next, remaining)\n",
        "\n",
        "\n",
        "x=\"abbc\"\n",
        "permute(\"\",x)"
      ],
      "metadata": {
        "id": "ct9BkcDnRDaT"
      },
      "execution_count": null,
      "outputs": []
    },
    {
      "cell_type": "code",
      "source": [
        "rest=\"abbc\"\n",
        "print(rest[0:1])  #[inc:dont-inc]"
      ],
      "metadata": {
        "colab": {
          "base_uri": "https://localhost:8080/"
        },
        "id": "Df0ZhCLRNw6-",
        "outputId": "344eeca3-facd-45e8-d6da-c228a618da33"
      },
      "execution_count": null,
      "outputs": [
        {
          "output_type": "stream",
          "name": "stdout",
          "text": [
            "a\n"
          ]
        }
      ]
    },
    {
      "cell_type": "markdown",
      "source": [
        "recursion to iteration"
      ],
      "metadata": {
        "id": "Y9AhW2tWl7R9"
      }
    },
    {
      "cell_type": "markdown",
      "source": [
        "PostorderTraversal-BinaryTree (recursive)"
      ],
      "metadata": {
        "id": "XCs5c-4Ep2uN"
      }
    },
    {
      "cell_type": "code",
      "source": [
        "# PostOrder traversal in BinaryTree \n",
        "\n",
        "def postorder(tree):\n",
        "  if tree is None:\n",
        "    return \n",
        "  \n",
        "  else:\n",
        "    postorder(tree.left)\n",
        "    postorder(tree.right)\n",
        "    print(tree.val)\n"
      ],
      "metadata": {
        "id": "XSjhJ8jBpTez"
      },
      "execution_count": null,
      "outputs": []
    },
    {
      "cell_type": "markdown",
      "source": [
        "PostOrder Traversal- BinaryTree (iterative)"
      ],
      "metadata": {
        "id": "aotYOkNeqCdh"
      }
    },
    {
      "cell_type": "code",
      "source": [
        "def postorder(tree):\n",
        "  stack=[]\n",
        "  stack.append(('call', tree))\n",
        "  while stack:\n",
        "    action, node= stack.pop()\n",
        "    if action =='call':\n",
        "      if node is None:\n",
        "        pass \n",
        "      else:\n",
        "        stack.append(('resume', node)) \n",
        "        stack.append(('call', node.right))\n",
        "        stack.append(('call', node.left))\n",
        "    else:\n",
        "      print(node.val)"
      ],
      "metadata": {
        "id": "X8IPIaSVqGcs"
      },
      "execution_count": null,
      "outputs": []
    },
    {
      "cell_type": "markdown",
      "source": [
        "Tree Sum - recursive"
      ],
      "metadata": {
        "id": "Blk2jxFArBEr"
      }
    },
    {
      "cell_type": "code",
      "source": [
        "def treeSum(tree):\n",
        "  if tree is None:\n",
        "    return 0 \n",
        "  else:\n",
        "    leftsum= treeSum(tree.left)\n",
        "    rightsum=treeSum(tree.right)\n",
        "    return tree.val+leftsum+rightsum"
      ],
      "metadata": {
        "id": "cx68ywmGrCeF"
      },
      "execution_count": null,
      "outputs": []
    },
    {
      "cell_type": "markdown",
      "source": [
        "Tree Sum -iterative"
      ],
      "metadata": {
        "id": "0hu99O5_rbfS"
      }
    },
    {
      "cell_type": "code",
      "source": [
        "def treeSum(tree):\n",
        "  stack=[]\n",
        "  output=[None] \n",
        "  stack.append(('call', tree, output, [None],[None]))\n",
        "  while stack: \n",
        "    action, node, ret, left, right= stack.pop()\n",
        "    if action=='call':\n",
        "      if node is None:\n",
        "        ret[0]=0\n",
        "      else:\n",
        "        stack.append(('resume', node, ret, left, right))\n",
        "        stack.append(('call', node.right, left, [None], [None]))\n",
        "        stack.append(('call', node.left, right,[None],[None]))\n",
        "    else:\n",
        "      ret[0]=node.val+left[0]+right[0]\n",
        "  return output[0]"
      ],
      "metadata": {
        "id": "c_qupF95raZn"
      },
      "execution_count": null,
      "outputs": []
    },
    {
      "cell_type": "markdown",
      "source": [
        "Iteration to Recursion"
      ],
      "metadata": {
        "id": "cHkSn-9GwLC8"
      }
    },
    {
      "cell_type": "markdown",
      "source": [
        "nbDivisors --  Iterative"
      ],
      "metadata": {
        "id": "BiHk0-hwxa4L"
      }
    },
    {
      "cell_type": "code",
      "source": [
        "def nbDivisors(n):\n",
        "  count= 0\n",
        "  i=1 \n",
        "  while i<=n:\n",
        "    if n%i ==0:\n",
        "      count+=1\n",
        "    i+=1\n",
        "  return count "
      ],
      "metadata": {
        "id": "_EQVHEdLwNwR"
      },
      "execution_count": null,
      "outputs": []
    },
    {
      "cell_type": "markdown",
      "source": [
        "nbDivisors --- recursive"
      ],
      "metadata": {
        "id": "dleORe3jx3oD"
      }
    },
    {
      "cell_type": "code",
      "source": [
        "def nbDivisors(n, count=0, i=1):\n",
        "  if i > n:\n",
        "    return count \n",
        "  else:\n",
        "    if n%i==0:\n",
        "      count+=1\n",
        "    i+=1\n",
        "    return nbDivisors(n, count, i)\n"
      ],
      "metadata": {
        "id": "AGqk4oZ8x6DG"
      },
      "execution_count": null,
      "outputs": []
    },
    {
      "cell_type": "markdown",
      "source": [
        "GetMin   -- Iterative "
      ],
      "metadata": {
        "id": "9GnGPmPYy7dz"
      }
    },
    {
      "cell_type": "code",
      "source": [
        "def getMin(arr):\n",
        "  \n",
        "  minVal= float('inf')\n",
        "  for i in range(len(arr)):\n",
        "    if arr[i]<minVal:\n",
        "      minVal= arr[i]\n",
        "    return minVal \n"
      ],
      "metadata": {
        "id": "c9hVCgLay-uP"
      },
      "execution_count": null,
      "outputs": []
    },
    {
      "cell_type": "markdown",
      "source": [
        "GetMin  -- Recursive"
      ],
      "metadata": {
        "id": "286MbnNKzN1z"
      }
    },
    {
      "cell_type": "code",
      "source": [
        "def getMin(arr, i=0, minVal=float('inf')):\n",
        "  if i>= len(arr):\n",
        "    return minVal \n",
        "  \n",
        "  else:\n",
        "    if arr[i]< minVal:\n",
        "      minVal=arr[i]\n",
        "    return getMin(arr, i+1, minVal)"
      ],
      "metadata": {
        "id": "_S6wVwi7zRqg"
      },
      "execution_count": null,
      "outputs": []
    },
    {
      "cell_type": "markdown",
      "source": [
        "Contains   --- Iterative "
      ],
      "metadata": {
        "id": "zvVJxY9Jz7S0"
      }
    },
    {
      "cell_type": "code",
      "source": [
        "def contains(arr, val):\n",
        "  for i in range(len(arr)):\n",
        "    if arr[i]==val:\n",
        "      return True \n",
        "  return False "
      ],
      "metadata": {
        "id": "vSRdfuK4zovy"
      },
      "execution_count": null,
      "outputs": []
    },
    {
      "cell_type": "markdown",
      "source": [
        "Contains --- Recursive"
      ],
      "metadata": {
        "id": "KQZNUi820Mp7"
      }
    },
    {
      "cell_type": "code",
      "source": [
        "def contains(arr, val, i=0):\n",
        "  if i>= len(arr):\n",
        "    return False \n",
        "  elif arr[i]==val:\n",
        "    return True \n",
        "  else:\n",
        "    return contains(arr, val, i+1)"
      ],
      "metadata": {
        "id": "NXc6u4Y1zsqx"
      },
      "execution_count": null,
      "outputs": []
    },
    {
      "cell_type": "markdown",
      "source": [
        "Memoization"
      ],
      "metadata": {
        "id": "l3b7fnmr5Kcp"
      }
    },
    {
      "cell_type": "code",
      "source": [
        "# ways to climb memoization \n",
        "\n",
        "def waysToClimb(n, possibleSteps, lookup):\n",
        "  key=str(n)\n",
        "  if key in lookup:\n",
        "    return lookup[key] \n",
        "  elif n==0:\n",
        "    lookup[key]=1 \n",
        "    return lookup[key] \n",
        "  \n",
        "  else:\n",
        "    nbWays= 0\n",
        "    for steps in possibleSteps:\n",
        "      if (n-steps)>=0:\n",
        "        nbWays+= waysToClimb(n-steps, possibleSteps,lookup)\n",
        "        lookup[key]=nbWays \n",
        "    return lookup[key]"
      ],
      "metadata": {
        "id": "vkMzBbxA5L_R"
      },
      "execution_count": null,
      "outputs": []
    },
    {
      "cell_type": "markdown",
      "source": [
        "Dynamic Programming "
      ],
      "metadata": {
        "id": "zaVuu4Vb7hKg"
      }
    },
    {
      "cell_type": "code",
      "source": [
        "def waysToClimb(n, possibleSteps):\n",
        "  dp=[0]* (n+1)\n",
        "  dp[0]=1\n",
        "  for i in range(1, len(dp)):\n",
        "    nbWays=0\n",
        "    for steps in possibleSteps:\n",
        "      if (i-steps)>=0:\n",
        "        nbWays+= dp[i-steps]\n",
        "    dp[i]= nbWays \n",
        "  return dp[n]"
      ],
      "metadata": {
        "id": "tgtHzujo70nt"
      },
      "execution_count": null,
      "outputs": []
    },
    {
      "cell_type": "markdown",
      "source": [
        "Divide and Conquer and Backtrack\n",
        "\n",
        "\n"
      ],
      "metadata": {
        "id": "jMfPo7D39IAk"
      }
    },
    {
      "cell_type": "code",
      "source": [
        "#0/1 knapsack   ---> backtrack \n",
        "\n",
        "\n",
        "# comb --> items under processing \n",
        "# combs --> contains valid combination \n",
        "\n",
        "def rec(weights, maxWeight, i, combs, comb):\n",
        "  if maxWeight <0:\n",
        "    return \n",
        "\n",
        "  elif i==len(weights):\n",
        "    combs.append(comb.copy())\n",
        "  \n",
        "  else:\n",
        "    comb.append(i)\n",
        "    rec(weights, i+1, maxWeight-weights[i], comb, combs)\n",
        "    comb.pop()\n",
        "    rec(weights, i+1, maxWeight, comb, comb) \n",
        "\n",
        "\n",
        "def getCombs(weights, maxWeight):\n",
        "  combs=[]\n",
        "  rec(weights, maxWeight, 0, combs, [])\n",
        "  return combs \n",
        "\n",
        "# second method \n",
        "def getCombs2(weights, maxWeight, i=0):\n",
        "  if i== len(weights):\n",
        "    return [[]]\n",
        "  \n",
        "  else:\n",
        "    fromNext= getCombs2(weights, maxWeight, i+1)\n",
        "    combs=[]\n",
        "    for comb in fromNext:\n",
        "      combs.append(comb.copy())\n",
        "      if (sum([weights[item] for item in comb])+ weights[i])<= maxWeight:\n",
        "        comb.append(i)\n",
        "        combs.append(comb.copy())\n",
        "    \n",
        "    return combs"
      ],
      "metadata": {
        "id": "lygp9hrGCXbp"
      },
      "execution_count": null,
      "outputs": []
    },
    {
      "cell_type": "markdown",
      "source": [
        "NQueens"
      ],
      "metadata": {
        "id": "D3h5P4YAbf3F"
      }
    },
    {
      "cell_type": "code",
      "source": [
        "def isNotAttacked(board, row, col):#o(n)\n",
        "  i= row-1 \n",
        "  jLeft= col-1 \n",
        "  jRight= col+1 \n",
        "  while i>=0:\n",
        "    if board[i][col]=='Q' or (jLeft >= 0 and board[i][jLeft]=='Q') or (jRight <len(board) and board[i][jRight] =='Q'):\n",
        "      return False \n",
        "    else:\n",
        "      i-=1\n",
        "      jLeft-=1\n",
        "      jRight+=1\n",
        "  return True \n",
        "\n",
        "def nQueensRec(n, board, row):\n",
        "  if row>=n:\n",
        "    return 1\n",
        "  sumWays=0\n",
        "  for i in range(n):\n",
        "    if isNotAttacked(board, row, i):\n",
        "      board[row][i]='Q'\n",
        "      sumWays+= nQueensRec(n, board, row+1) \n",
        "      board[row][i]='.'\n",
        "  \n",
        "  return sumWays\n",
        "\n",
        "def nQueens(n):\n",
        "  board=[['.']* n for i in range(n)]\n",
        "  return nQueensRec(n, board, 0)"
      ],
      "metadata": {
        "id": "r-XuRF6kbhbB"
      },
      "execution_count": null,
      "outputs": []
    },
    {
      "cell_type": "markdown",
      "source": [
        "Recursion and Linked-List "
      ],
      "metadata": {
        "id": "M8Sg_nmSfyGb"
      }
    },
    {
      "cell_type": "code",
      "source": [
        ""
      ],
      "metadata": {
        "id": "GY151mjgf0S3"
      },
      "execution_count": null,
      "outputs": []
    }
  ]
}